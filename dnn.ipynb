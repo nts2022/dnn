{
 "cells": [
  {
   "cell_type": "code",
   "execution_count": 1,
   "id": "8ad3a860-da59-4b1d-8583-1fa9536e9ea3",
   "metadata": {},
   "outputs": [],
   "source": [
    "import numpy as np\n",
    "import pandas as pd\n",
    "import matplotlib.pyplot as plt\n",
    "from sklearn.preprocessing import OneHotEncoder\n",
    "from sklearn.model_selection import train_test_split\n",
    "from sklearn.metrics import accuracy_score, precision_score, recall_score, f1_score"
   ]
  },
  {
   "cell_type": "markdown",
   "id": "b453c20f-9bdd-4691-bd29-a97df566d8dd",
   "metadata": {},
   "source": [
    "### データの用意"
   ]
  },
  {
   "cell_type": "code",
   "execution_count": 3,
   "id": "c22daee6-7ead-487e-b097-1fff2476380e",
   "metadata": {},
   "outputs": [],
   "source": [
    "from tensorflow.keras.datasets import mnist\n",
    "(X_train, y_train), (X_valid, y_valid) = mnist.load_data()"
   ]
  },
  {
   "cell_type": "code",
   "execution_count": 4,
   "id": "08874e9a-24d4-497b-b165-f3ebaf4a154f",
   "metadata": {},
   "outputs": [
    {
     "data": {
      "text/plain": [
       "(60000, 28, 28)"
      ]
     },
     "execution_count": 4,
     "metadata": {},
     "output_type": "execute_result"
    }
   ],
   "source": [
    "X_train.shape"
   ]
  },
  {
   "cell_type": "code",
   "execution_count": 5,
   "id": "66f6235a-b165-474d-b77b-c8ddba009c58",
   "metadata": {},
   "outputs": [
    {
     "data": {
      "text/plain": [
       "dtype('uint8')"
      ]
     },
     "execution_count": 5,
     "metadata": {},
     "output_type": "execute_result"
    }
   ],
   "source": [
    "X_train.dtype"
   ]
  },
  {
   "cell_type": "code",
   "execution_count": 6,
   "id": "52ad5713-9565-444a-a7d1-e83b8d58d98d",
   "metadata": {},
   "outputs": [],
   "source": [
    "# 平坦化\n",
    "X_train = X_train.reshape(-1, 784)\n",
    "X_valid = X_valid.reshape(-1, 784)"
   ]
  },
  {
   "cell_type": "code",
   "execution_count": 7,
   "id": "d166f5b0-e444-4d50-8f39-2d2dd71d99b8",
   "metadata": {},
   "outputs": [],
   "source": [
    "# 0-1化\n",
    "X_train = X_train.astype(float) / 255\n",
    "X_valid = X_valid.astype(float) / 255"
   ]
  },
  {
   "cell_type": "code",
   "execution_count": 8,
   "id": "05dab8eb-7b4f-4234-b06a-2d83cba76ad8",
   "metadata": {},
   "outputs": [
    {
     "name": "stdout",
     "output_type": "stream",
     "text": [
      "(48000, 784)\n",
      "(48000,)\n",
      "(12000, 784)\n",
      "(12000,)\n"
     ]
    }
   ],
   "source": [
    "# 分割\n",
    "X_train, X_valid, y_train, y_valid = train_test_split(X_train, y_train, test_size=0.2)\n",
    "print(X_train.shape)\n",
    "print(y_train.shape)\n",
    "print(X_valid.shape)\n",
    "print(y_valid.shape)"
   ]
  },
  {
   "cell_type": "code",
   "execution_count": 9,
   "id": "7484b520-3b56-4264-b4fe-c0b2adada93d",
   "metadata": {},
   "outputs": [
    {
     "name": "stdout",
     "output_type": "stream",
     "text": [
      "(48000, 784)\n",
      "(48000, 10)\n",
      "(12000, 784)\n",
      "(12000, 10)\n"
     ]
    }
   ],
   "source": [
    "# one-hot化\n",
    "enc = OneHotEncoder(handle_unknown='ignore', sparse=False)\n",
    "y_train_one_hot = enc.fit_transform(y_train[:, np.newaxis])\n",
    "y_valid_one_hot = enc.transform(y_valid[:, np.newaxis])\n",
    "print(X_train.shape)\n",
    "print(y_train_one_hot.shape)\n",
    "print(X_valid.shape)\n",
    "print(y_valid_one_hot.shape)"
   ]
  },
  {
   "cell_type": "markdown",
   "id": "271641ae-d919-427b-82f1-b0d52bd8bf3a",
   "metadata": {},
   "source": [
    "### ミニバッチイテレータ"
   ]
  },
  {
   "cell_type": "code",
   "execution_count": 10,
   "id": "6860bb89-6759-4103-aab7-9076da048f29",
   "metadata": {},
   "outputs": [],
   "source": [
    "class GetMiniBatch:\n",
    "    \"\"\"\n",
    "    ミニバッチを取得するイテレータ\n",
    "\n",
    "    Parameters\n",
    "    ----------\n",
    "    X : 次の形のndarray, shape (n_samples, n_features)\n",
    "      訓練データ\n",
    "    y : 次の形のndarray, shape (n_samples, 1)\n",
    "      正解値\n",
    "    batch_size : int\n",
    "      バッチサイズ\n",
    "    seed : int\n",
    "      NumPyの乱数のシード\n",
    "    \"\"\"\n",
    "    def __init__(self, X, y, batch_size=20, seed=0):\n",
    "        self.batch_size = batch_size\n",
    "        np.random.seed(seed)\n",
    "        shuffle_index = np.random.permutation(np.arange(X.shape[0]))\n",
    "        self._X = X[shuffle_index]\n",
    "        self._y = y[shuffle_index]\n",
    "        self._stop = np.ceil(X.shape[0] / self.batch_size).astype(int)\n",
    "\n",
    "    def __len__(self):\n",
    "        return self._stop\n",
    "\n",
    "    def __getitem__(self, item):\n",
    "        p0 = item * self.batch_size\n",
    "        p1 = item * self.batch_size + self.batch_size\n",
    "        return self._X[p0:p1], self._y[p0:p1]        \n",
    "\n",
    "    def __iter__(self):\n",
    "        self._counter = 0\n",
    "        return self\n",
    "\n",
    "    def __next__(self):\n",
    "        if self._counter >= self._stop:\n",
    "            raise StopIteration()\n",
    "        p0 = self._counter * self.batch_size\n",
    "        p1 = self._counter * self.batch_size + self.batch_size\n",
    "        self._counter += 1\n",
    "        return self._X[p0:p1], self._y[p0:p1]"
   ]
  },
  {
   "cell_type": "markdown",
   "id": "142146a7-8a7b-4e26-86b2-ac46c3256100",
   "metadata": {},
   "source": [
    "### 実装"
   ]
  },
  {
   "cell_type": "code",
   "execution_count": 11,
   "id": "551b1721-eddf-423a-8568-de7915082774",
   "metadata": {},
   "outputs": [],
   "source": [
    "class FC:\n",
    "    \"\"\"\n",
    "    ノード数n_nodes1からn_nodes2への全結合層\n",
    "    Parameters\n",
    "    ----------\n",
    "    n_nodes1 : int\n",
    "      前の層のノード数\n",
    "    n_nodes2 : int\n",
    "      後の層のノード数\n",
    "    initializer : 初期化方法のインスタンス\n",
    "    optimizer : 最適化手法のインスタンス\n",
    "    \"\"\"\n",
    "    def __init__(self, n_nodes1, n_nodes2, initializer, optimizer, activation):\n",
    "        self.n_nodes1 = n_nodes1\n",
    "        self.n_nodes2 = n_nodes2\n",
    "        self.optimizer = optimizer\n",
    "        self.activation = activation\n",
    "        # 初期化\n",
    "        # initializerのメソッドを使い、self.W と self.b を初期化する\n",
    "        self.W = initializer.W(n_nodes1, n_nodes2)\n",
    "        self.b = initializer.b(n_nodes2)\n",
    "\n",
    "    def forward(self, X):\n",
    "        \"\"\"\n",
    "        フォワード\n",
    "        Parameters\n",
    "        ----------\n",
    "        X : 次の形のndarray, shape (batch_size, n_nodes1)\n",
    "            入力\n",
    "        Returns\n",
    "        ----------\n",
    "        A : 次の形のndarray, shape (batch_size, n_nodes2)\n",
    "            出力\n",
    "        \"\"\"\n",
    "        self.X = X\n",
    "        y = np.dot(X, self.W) + self.b\n",
    "        return self.activation.forward(y)\n",
    "\n",
    "    def backward(self, dA):\n",
    "        \"\"\"\n",
    "        バックワード\n",
    "        Parameters\n",
    "        ----------\n",
    "        dA : 次の形のndarray, shape (batch_size, n_nodes2)\n",
    "            後ろから流れてきた勾配\n",
    "        Returns\n",
    "        ----------\n",
    "        dZ : 次の形のndarray, shape (batch_size, n_nodes1)\n",
    "            前に流す勾配\n",
    "        \"\"\"\n",
    "        dA = self.activation.backward(dA)\n",
    "        self.db = np.mean(dA, axis=0)\n",
    "        self.dW = np.dot(self.X.T, dA) / len(self.X)\n",
    "        dZ = np.dot(dA, self.W.T)\n",
    "        # 更新\n",
    "        self = self.optimizer.update(self)\n",
    "        return dZ"
   ]
  },
  {
   "cell_type": "code",
   "execution_count": 12,
   "id": "5c48e756-af01-4900-b9d7-91ea70c049b5",
   "metadata": {},
   "outputs": [],
   "source": [
    "class SGD:\n",
    "\n",
    "    def __init__(self, lr):\n",
    "        self.lr = lr\n",
    "\n",
    "    def update(self, fc):\n",
    "        fc.W -= self.lr * fc.dW\n",
    "        fc.b -= self.lr * fc.db"
   ]
  },
  {
   "cell_type": "code",
   "execution_count": 13,
   "id": "664ad089-5e75-429d-b5cd-c4aa0a3038c8",
   "metadata": {},
   "outputs": [],
   "source": [
    "class AdaGrad:\n",
    "\n",
    "    def __init__(self, lr):\n",
    "        self.lr = lr\n",
    "        self.hW = 0\n",
    "        self.hb = 0\n",
    "\n",
    "    def update(self, fc):\n",
    "        self.hW += fc.dW * fc.dW\n",
    "        self.hb = fc.db * fc.db\n",
    "        fc.W -= self.lr * fc.dW / (np.sqrt(self.hW) + 1e-8)\n",
    "        fc.b -= self.lr * fc.db / (np.sqrt(self.hb) + 1e-8)"
   ]
  },
  {
   "cell_type": "code",
   "execution_count": 14,
   "id": "8fddaf8f-7d5a-43f6-9383-65502e7a8545",
   "metadata": {},
   "outputs": [],
   "source": [
    "class Sigmoid:\n",
    "        \n",
    "    def forward(self, a):\n",
    "        self.a = a\n",
    "        self.Z = 1 / (1 + np.exp(-self.a))\n",
    "        return self.Z\n",
    "\n",
    "    def backward(self, dZ):\n",
    "        return dZ * (1 - self.Z) * self.Z"
   ]
  },
  {
   "cell_type": "code",
   "execution_count": 15,
   "id": "38d24b6b-db0c-4e4e-a6e0-897df69c8f9a",
   "metadata": {},
   "outputs": [],
   "source": [
    "class ReLU:\n",
    "\n",
    "    def forward(self, a):\n",
    "        self.a = a\n",
    "        return np.maximum(self.a, 0)\n",
    "\n",
    "    def backward(self, dZ):\n",
    "        return np.where(self.a > 0, dZ, 0)"
   ]
  },
  {
   "cell_type": "code",
   "execution_count": 16,
   "id": "c54e0933-8fcc-4c5a-b135-d75b2959b66e",
   "metadata": {},
   "outputs": [],
   "source": [
    "class Softmax:\n",
    "        \n",
    "    def forward(self, a):\n",
    "        return np.exp(a - np.max(a)) / np.sum(np.exp(a - np.max(a)), axis=1, keepdims=True)\n",
    "    \n",
    "    def backward(self, dZ):\n",
    "        return dZ"
   ]
  },
  {
   "cell_type": "code",
   "execution_count": 17,
   "id": "37c5446a-b08d-4d42-9698-4dbc4d7e031d",
   "metadata": {},
   "outputs": [],
   "source": [
    "class SimpleInitializer:\n",
    "\n",
    "    def __init__(self, sigma):\n",
    "        self.sigma = sigma\n",
    "\n",
    "    def W(self, n_nodes1, n_nodes2):\n",
    "        return self.sigma * np.random.randn(n_nodes1, n_nodes2)\n",
    "\n",
    "    def b(self, n_nodes2):\n",
    "        return np.zeros(n_nodes2)"
   ]
  },
  {
   "cell_type": "code",
   "execution_count": 18,
   "id": "0e00e19a-c034-465e-9283-9d420280dbf7",
   "metadata": {},
   "outputs": [],
   "source": [
    "class XavierInitializer:\n",
    "\n",
    "    def W(self, n_nodes1, n_nodes2):\n",
    "        return np.random.randn(n_nodes1, n_nodes2) * np.sqrt(1 / n_nodes1)\n",
    "\n",
    "    def b(self, n_nodes2):\n",
    "        return np.zeros(n_nodes2)"
   ]
  },
  {
   "cell_type": "code",
   "execution_count": 19,
   "id": "c986a00a-eaf9-455c-85b8-eb249e8542dd",
   "metadata": {},
   "outputs": [],
   "source": [
    "class HeInitializer:\n",
    "\n",
    "    def W(self, n_nodes1, n_nodes2):\n",
    "        return np.random.randn(n_nodes1, n_nodes2) * np.sqrt(2 / n_nodes1)\n",
    "\n",
    "    def b(self, n_nodes2):\n",
    "        return np.zeros(n_nodes2)"
   ]
  },
  {
   "cell_type": "markdown",
   "id": "cf743ed0-ee05-4f55-a0b8-64ad2bf5be3c",
   "metadata": {},
   "source": [
    "### メインクラスの実装"
   ]
  },
  {
   "cell_type": "code",
   "execution_count": 20,
   "id": "62597718-e364-41a3-a938-c866cf3c63ed",
   "metadata": {},
   "outputs": [],
   "source": [
    "# ニューラルネットワークスクラッチ\n",
    "class ScratchDeepNeuralNetrowkClassifier:\n",
    "\n",
    "    def __init__(self, layers, verbose=False):\n",
    "        self.layers = layers\n",
    "        self.verbose = verbose\n",
    "\n",
    "    # 交差エントロピー誤差\n",
    "    def _loss_function(self, y, yt):\n",
    "        eps = 1e-8\n",
    "        return -np.mean(yt * np.log(y + eps))\n",
    "\n",
    "    def fit(self, X, y, X_val=None, y_val=None, n_epoch=50, n_batch=20, lr=0.01):\n",
    "        # 各エポックの loss を記録するリスト\n",
    "        self.log_loss = []\n",
    "        self.log_loss_val = []\n",
    "        # エポックごとの指標値を評価する: 精度\n",
    "        self.log_acc = []\n",
    "        self.log_acc_val = []\n",
    "        \n",
    "        for epoch in range(n_epoch):\n",
    "            # ミニバッチ処理\n",
    "            get_mini_batch = GetMiniBatch(X, y, batch_size=n_batch)\n",
    "            \n",
    "            self.loss = 0\n",
    "            self.true_y = np.array([])\n",
    "            self.pred_y = np.array([])\n",
    "            \n",
    "            for mini_X_train, mini_y_train in get_mini_batch:\n",
    "                # forward\n",
    "                x = mini_X_train\n",
    "                for l in self.layers:\n",
    "                    x = l.forward(x)\n",
    "                z = x\n",
    "                # backward\n",
    "                b = (z - mini_y_train) / n_batch\n",
    "                for l in reversed(self.layers):\n",
    "                    b = l.backward(b)\n",
    "                # 結果を保存\n",
    "                self.true_y = np.concatenate([self.true_y, np.argmax(mini_y_train, axis=1)])\n",
    "                self.pred_y = np.concatenate([self.pred_y, np.argmax(z, axis=1)])\n",
    "                # 損失関数\n",
    "                self.loss += self._loss_function(z, mini_y_train)\n",
    "\n",
    "            # 各エポックの損失関数を記録する\n",
    "            self.log_loss.append(self.loss / len(get_mini_batch))\n",
    "            # 精度\n",
    "            acc = accuracy_score(self.true_y, self.pred_y)\n",
    "            self.log_acc.append(acc)\n",
    "\n",
    "            # 検証データが入力されたら計算する\n",
    "            if X_val is not None:\n",
    "                # forward\n",
    "                x = X_val\n",
    "                for l in self.layers:\n",
    "                    x = l.forward(x)\n",
    "                z = x\n",
    "                y_hat = np.argmax(x, axis=1)\n",
    "                # 損失関数\n",
    "                self.loss_val = self._loss_function(z, y_val)\n",
    "                self.log_loss_val.append(self.loss_val)\n",
    "                # 精度\n",
    "                acc_val = accuracy_score(np.argmax(y_val, axis=1), y_hat)\n",
    "                self.log_acc_val.append(acc_val)\n",
    "\n",
    "            # verbose を true に設定すると、学習過程などを出力する\n",
    "            if self.verbose:\n",
    "                print(f\"epoch:{epoch:>3} loss:{(self.loss / n_batch):>8,.3f} acc:{acc:>5,.3f}\")\n",
    "\n",
    "    def predict(self, X):\n",
    "        # forward\n",
    "        x = X\n",
    "        for l in self.layers:\n",
    "            x = l.forward(x)\n",
    "        return np.argmax(x, axis=1)"
   ]
  },
  {
   "cell_type": "markdown",
   "id": "aab42b9e-2d18-45e4-b5ae-aac32cf6372b",
   "metadata": {},
   "source": [
    "### ネットワークパターン１"
   ]
  },
  {
   "cell_type": "code",
   "execution_count": 21,
   "id": "7d675e06-d489-4ae8-929f-c4d3cd9cf424",
   "metadata": {},
   "outputs": [],
   "source": [
    "nn = [\n",
    "    FC(784, 400, HeInitializer(), AdaGrad(0.01), ReLU()),\n",
    "    FC(400, 200, HeInitializer(), AdaGrad(0.01), ReLU()),\n",
    "    FC(200, 10, SimpleInitializer(0.01), AdaGrad(0.01), Softmax()),\n",
    "]"
   ]
  },
  {
   "cell_type": "code",
   "execution_count": 22,
   "id": "0006aa84-e526-4bcd-a49a-fc9d82955be7",
   "metadata": {},
   "outputs": [
    {
     "name": "stdout",
     "output_type": "stream",
     "text": [
      "epoch:  0 loss:   2.513 acc:0.936\n",
      "epoch:  1 loss:   1.268 acc:0.969\n",
      "epoch:  2 loss:   1.006 acc:0.976\n",
      "epoch:  3 loss:   0.864 acc:0.979\n",
      "epoch:  4 loss:   0.773 acc:0.982\n",
      "epoch:  5 loss:   0.687 acc:0.984\n",
      "epoch:  6 loss:   0.619 acc:0.986\n",
      "epoch:  7 loss:   0.568 acc:0.987\n",
      "epoch:  8 loss:   0.522 acc:0.989\n",
      "epoch:  9 loss:   0.483 acc:0.989\n",
      "epoch: 10 loss:   0.454 acc:0.990\n",
      "epoch: 11 loss:   0.421 acc:0.991\n",
      "epoch: 12 loss:   0.394 acc:0.992\n",
      "epoch: 13 loss:   0.364 acc:0.992\n",
      "epoch: 14 loss:   0.342 acc:0.993\n",
      "epoch: 15 loss:   0.332 acc:0.993\n",
      "epoch: 16 loss:   0.317 acc:0.994\n",
      "epoch: 17 loss:   0.301 acc:0.994\n",
      "epoch: 18 loss:   0.289 acc:0.994\n",
      "epoch: 19 loss:   0.304 acc:0.993\n",
      "epoch: 20 loss:   0.314 acc:0.993\n",
      "epoch: 21 loss:   0.315 acc:0.993\n",
      "epoch: 22 loss:   0.289 acc:0.994\n",
      "epoch: 23 loss:   0.299 acc:0.994\n",
      "epoch: 24 loss:   0.298 acc:0.993\n",
      "epoch: 25 loss:   0.282 acc:0.994\n",
      "epoch: 26 loss:   0.288 acc:0.993\n",
      "epoch: 27 loss:   0.270 acc:0.994\n",
      "epoch: 28 loss:   0.249 acc:0.994\n",
      "epoch: 29 loss:   0.233 acc:0.995\n"
     ]
    }
   ],
   "source": [
    "clf = ScratchDeepNeuralNetrowkClassifier(layers=nn, verbose=True)\n",
    "clf.fit(X_train, y_train_one_hot, X_valid, y_valid_one_hot, n_epoch=30, n_batch=20, lr=0.01)"
   ]
  },
  {
   "cell_type": "code",
   "execution_count": 23,
   "id": "1de9e7ba-5e31-461c-8226-8f457f894268",
   "metadata": {},
   "outputs": [
    {
     "name": "stdout",
     "output_type": "stream",
     "text": [
      "accuracy:0.968\n"
     ]
    }
   ],
   "source": [
    "y_pred = clf.predict(X_valid)\n",
    "accuracy = accuracy_score(y_valid, y_pred)\n",
    "print('accuracy:{:.3f}'.format(accuracy))"
   ]
  },
  {
   "cell_type": "markdown",
   "id": "4e90218a-2928-4e89-8a01-083dc293fe0d",
   "metadata": {},
   "source": [
    "### ネットワークパターン２"
   ]
  },
  {
   "cell_type": "code",
   "execution_count": 24,
   "id": "b4563020-1766-4718-a87f-70ac5838f20e",
   "metadata": {},
   "outputs": [],
   "source": [
    "nn = [\n",
    "    FC(784, 400, XavierInitializer(), AdaGrad(0.01), Sigmoid()),\n",
    "    FC(400, 200, XavierInitializer(), AdaGrad(0.01), Sigmoid()),\n",
    "    FC(200, 10, SimpleInitializer(0.01), AdaGrad(0.01), Softmax()),\n",
    "]"
   ]
  },
  {
   "cell_type": "code",
   "execution_count": 25,
   "id": "3f901c6c-d74c-41b9-ba26-eb489736f4f8",
   "metadata": {},
   "outputs": [],
   "source": [
    "clf = ScratchDeepNeuralNetrowkClassifier(layers=nn, verbose=False)\n",
    "clf.fit(X_train, y_train_one_hot, X_valid, y_valid_one_hot, n_epoch=30, n_batch=20, lr=0.01)"
   ]
  },
  {
   "cell_type": "code",
   "execution_count": 26,
   "id": "73c4b656-ff28-4247-ad3c-6aa38b3483b0",
   "metadata": {},
   "outputs": [
    {
     "name": "stdout",
     "output_type": "stream",
     "text": [
      "accuracy:0.965\n"
     ]
    }
   ],
   "source": [
    "y_pred = clf.predict(X_valid)\n",
    "accuracy = accuracy_score(y_valid, y_pred)\n",
    "print('accuracy:{:.3f}'.format(accuracy))"
   ]
  },
  {
   "cell_type": "markdown",
   "id": "20fc09a4-9e92-4a5c-bf9c-7dd652c3b4e9",
   "metadata": {},
   "source": [
    "### ネットワークパターン３"
   ]
  },
  {
   "cell_type": "code",
   "execution_count": 27,
   "id": "799a761b-8eaf-4cc3-9288-3c3f32906092",
   "metadata": {},
   "outputs": [],
   "source": [
    "nn = [\n",
    "    FC(784, 512, HeInitializer(), AdaGrad(0.01), ReLU()),\n",
    "    FC(512, 256, HeInitializer(), AdaGrad(0.01), ReLU()),\n",
    "    FC(256, 128, HeInitializer(), AdaGrad(0.01), ReLU()),\n",
    "    FC(128, 10, SimpleInitializer(0.01), AdaGrad(0.01), Softmax()),\n",
    "]"
   ]
  },
  {
   "cell_type": "code",
   "execution_count": 28,
   "id": "6cc3ac8c-7046-465b-8799-367b7bbebe5b",
   "metadata": {},
   "outputs": [],
   "source": [
    "clf = ScratchDeepNeuralNetrowkClassifier(layers=nn, verbose=False)\n",
    "clf.fit(X_train, y_train_one_hot, X_valid, y_valid_one_hot, n_epoch=30, n_batch=20, lr=0.01)"
   ]
  },
  {
   "cell_type": "code",
   "execution_count": 29,
   "id": "1535e1c3-92d5-4970-95a1-94de188f18d2",
   "metadata": {},
   "outputs": [
    {
     "name": "stdout",
     "output_type": "stream",
     "text": [
      "accuracy:0.972\n"
     ]
    }
   ],
   "source": [
    "y_pred = clf.predict(X_valid)\n",
    "accuracy = accuracy_score(y_valid, y_pred)\n",
    "print('accuracy:{:.3f}'.format(accuracy))"
   ]
  },
  {
   "cell_type": "code",
   "execution_count": null,
   "id": "cd714b8a-96b5-4e68-8baf-8e4838441f52",
   "metadata": {},
   "outputs": [],
   "source": []
  }
 ],
 "metadata": {
  "kernelspec": {
   "display_name": "Python 3 (ipykernel)",
   "language": "python",
   "name": "python3"
  },
  "language_info": {
   "codemirror_mode": {
    "name": "ipython",
    "version": 3
   },
   "file_extension": ".py",
   "mimetype": "text/x-python",
   "name": "python",
   "nbconvert_exporter": "python",
   "pygments_lexer": "ipython3",
   "version": "3.7.13"
  }
 },
 "nbformat": 4,
 "nbformat_minor": 5
}
